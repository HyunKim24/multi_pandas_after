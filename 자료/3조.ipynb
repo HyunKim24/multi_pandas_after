{
 "cells": [
  {
   "cell_type": "code",
   "execution_count": 47,
   "metadata": {},
   "outputs": [],
   "source": [
    "import pandas as pd\n",
    "import numpy as np\n",
    "import matplotlib.pyplot as plt\n",
    "import matplotlib.rcsetup\n",
    "matplotlib.rcParams['font.family'] = 'Malgun Gothic'\n",
    "matplotlib.rcParams['axes.unicode_minus']=False"
   ]
  },
  {
   "cell_type": "code",
   "execution_count": null,
   "metadata": {},
   "outputs": [],
   "source": [
    "sr = pd.Series( [10,20,30,40], index = ['aa','bb','cc','dd'])\n",
    "sr\n"
   ]
  },
  {
   "cell_type": "code",
   "execution_count": 9,
   "metadata": {},
   "outputs": [
    {
     "name": "stdout",
     "output_type": "stream",
     "text": [
      "aa 10\n",
      "bb 20\n",
      "cc 30\n",
      "dd 40\n"
     ]
    }
   ],
   "source": [
    "for s,t in sr.items(): # 인덱스와 값을 튜플로 반영해줌\n",
    "    print(s,t)"
   ]
  },
  {
   "cell_type": "code",
   "execution_count": 129,
   "metadata": {
    "scrolled": true
   },
   "outputs": [
    {
     "data": {
      "text/plain": [
       "홍길동     70\n",
       "이순신     90\n",
       "임꺽정     55\n",
       "정난정     60\n",
       "이이      76\n",
       "이황      80\n",
       "정도전     76\n",
       "김철수1    88\n",
       "김철수2    30\n",
       "김철수3    25\n",
       "Name: 국어점수, dtype: int64"
      ]
     },
     "execution_count": 129,
     "metadata": {},
     "output_type": "execute_result"
    }
   ],
   "source": [
    "sr1 = pd.Series( [70,90, 55, 60, 76, 80, 76, 88, 30, 25], name = '국어점수')\n",
    "sr1.index= ['홍길동', '이순신', '임꺽정', '정난정', '이이', '이황', '정도전', '김철수1', '김철수2', '김철수3']\n",
    "sr1"
   ]
  },
  {
   "cell_type": "code",
   "execution_count": 25,
   "metadata": {},
   "outputs": [
    {
     "data": {
      "text/plain": [
       "'국어점수'"
      ]
     },
     "execution_count": 25,
     "metadata": {},
     "output_type": "execute_result"
    }
   ],
   "source": [
    "sr1.name"
   ]
  },
  {
   "cell_type": "code",
   "execution_count": 154,
   "metadata": {},
   "outputs": [],
   "source": [
    "# %matplotlib qt\n",
    "%matplotlib inline"
   ]
  },
  {
   "cell_type": "code",
   "execution_count": 52,
   "metadata": {},
   "outputs": [],
   "source": [
    "sr1.plot(kind = 'barh') # 얘는 맵메모리에 있는 애를 주피터가 그려주는거임\n",
    "plt.show() # 메모리에 있는 그림을 VM으로 전송해줌. 그래서 VM에 있는 그림을 띄워줌"
   ]
  },
  {
   "cell_type": "code",
   "execution_count": null,
   "metadata": {},
   "outputs": [],
   "source": [
    "sr5.str.contains('\\d{3}-\\d{3}', regex=True) "
   ]
  },
  {
   "cell_type": "code",
   "execution_count": 119,
   "metadata": {},
   "outputs": [
    {
     "ename": "TypeError",
     "evalue": "contains() got an unexpected keyword argument 'regex'",
     "output_type": "error",
     "traceback": [
      "\u001b[1;31m---------------------------------------------------------------------------\u001b[0m",
      "\u001b[1;31mTypeError\u001b[0m                                 Traceback (most recent call last)",
      "\u001b[1;32m<ipython-input-119-624789dd952e>\u001b[0m in \u001b[0;36m<module>\u001b[1;34m\u001b[0m\n\u001b[1;32m----> 1\u001b[1;33m \u001b[0msr1\u001b[0m\u001b[1;33m.\u001b[0m\u001b[0mindex\u001b[0m\u001b[1;33m.\u001b[0m\u001b[0mcontains\u001b[0m\u001b[1;33m(\u001b[0m\u001b[1;33m[\u001b[0m\u001b[1;34m'김'\u001b[0m\u001b[1;33m]\u001b[0m\u001b[1;33m,\u001b[0m \u001b[0mregex\u001b[0m\u001b[1;33m=\u001b[0m\u001b[1;32mTrue\u001b[0m\u001b[1;33m)\u001b[0m\u001b[1;33m\u001b[0m\u001b[1;33m\u001b[0m\u001b[0m\n\u001b[0m",
      "\u001b[1;31mTypeError\u001b[0m: contains() got an unexpected keyword argument 'regex'"
     ]
    }
   ],
   "source": [
    "sr1.index.contains(['김'], regex=True)"
   ]
  },
  {
   "cell_type": "code",
   "execution_count": 125,
   "metadata": {},
   "outputs": [
    {
     "data": {
      "text/plain": [
       "김철수1    88\n",
       "김철수2    30\n",
       "김철수3    25\n",
       "Name: 국어점수, dtype: int64"
      ]
     },
     "execution_count": 125,
     "metadata": {},
     "output_type": "execute_result"
    }
   ],
   "source": [
    "sr1[sr1.index.str.contains('김', regex=True)]"
   ]
  },
  {
   "cell_type": "code",
   "execution_count": 128,
   "metadata": {},
   "outputs": [
    {
     "data": {
      "text/plain": [
       "김철수2    30\n",
       "김철수3    25\n",
       "Name: 국어점수, dtype: int64"
      ]
     },
     "execution_count": 128,
     "metadata": {},
     "output_type": "execute_result"
    }
   ],
   "source": [
    "sr1[sr1<50]\n"
   ]
  },
  {
   "cell_type": "code",
   "execution_count": 132,
   "metadata": {},
   "outputs": [],
   "source": [
    "# to_ ~~`투언더바!!!'\n",
    "sr1.to_excel('a.xlsx')\n",
    "sr1.to_csv('b.csv')"
   ]
  },
  {
   "cell_type": "code",
   "execution_count": 136,
   "metadata": {},
   "outputs": [
    {
     "data": {
      "text/plain": [
       "76    2\n",
       "30    1\n",
       "60    1\n",
       "90    1\n",
       "25    1\n",
       "88    1\n",
       "55    1\n",
       "70    1\n",
       "80    1\n",
       "Name: 국어점수, dtype: int64"
      ]
     },
     "execution_count": 136,
     "metadata": {},
     "output_type": "execute_result"
    }
   ],
   "source": [
    "sr1.value_counts()"
   ]
  },
  {
   "cell_type": "code",
   "execution_count": 140,
   "metadata": {},
   "outputs": [
    {
     "data": {
      "text/plain": [
       "aa      (9.97, 14.286]\n",
       "bb    (18.571, 22.857]\n",
       "cc    (27.143, 31.429]\n",
       "dd      (35.714, 40.0]\n",
       "dtype: category\n",
       "Categories (7, interval[float64]): [(9.97, 14.286] < (14.286, 18.571] < (18.571, 22.857] < (22.857, 27.143] < (27.143, 31.429] < (31.429, 35.714] < (35.714, 40.0]]"
      ]
     },
     "execution_count": 140,
     "metadata": {},
     "output_type": "execute_result"
    }
   ],
   "source": [
    "pd.cut(sr,7)"
   ]
  },
  {
   "cell_type": "code",
   "execution_count": 149,
   "metadata": {},
   "outputs": [
    {
     "data": {
      "text/plain": [
       "(71.429, 80.714]    3\n",
       "(80.714, 90.0]      2\n",
       "(52.857, 62.143]    2\n",
       "(24.935, 34.286]    2\n",
       "(62.143, 71.429]    1\n",
       "(43.571, 52.857]    0\n",
       "(34.286, 43.571]    0\n",
       "Name: 국어점수, dtype: int64"
      ]
     },
     "execution_count": 149,
     "metadata": {},
     "output_type": "execute_result"
    }
   ],
   "source": [
    "pd.cut(sr1,7).value_counts()"
   ]
  },
  {
   "cell_type": "code",
   "execution_count": 147,
   "metadata": {},
   "outputs": [
    {
     "data": {
      "text/plain": [
       "홍길동     (62.143, 71.429]\n",
       "이순신       (80.714, 90.0]\n",
       "임꺽정     (52.857, 62.143]\n",
       "정난정     (52.857, 62.143]\n",
       "이이      (71.429, 80.714]\n",
       "이황      (71.429, 80.714]\n",
       "정도전     (71.429, 80.714]\n",
       "김철수1      (80.714, 90.0]\n",
       "김철수2    (24.935, 34.286]\n",
       "김철수3    (24.935, 34.286]\n",
       "Name: 국어점수, dtype: category\n",
       "Categories (7, interval[float64]): [(24.935, 34.286] < (34.286, 43.571] < (43.571, 52.857] < (52.857, 62.143] < (62.143, 71.429] < (71.429, 80.714] < (80.714, 90.0]]"
      ]
     },
     "execution_count": 147,
     "metadata": {},
     "output_type": "execute_result"
    }
   ],
   "source": [
    "pd.cut(sr1,7)"
   ]
  },
  {
   "cell_type": "code",
   "execution_count": 155,
   "metadata": {},
   "outputs": [
    {
     "data": {
      "image/png": "[encoded data removed]",
      "text/plain": [
       "<Figure size 432x288 with 1 Axes>"
      ]
     },
     "metadata": {
      "needs_background": "light"
     },
     "output_type": "display_data"
    }
   ],
   "source": [
    "sr1.hist(bins =7)\n",
    "plt.show()"
   ]
  },
  {
   "cell_type": "code",
   "execution_count": 171,
   "metadata": {},
   "outputs": [
    {
     "name": "stdout",
     "output_type": "stream",
     "text": [
      "====================\n",
      "이름 국어\n",
      "====================\n",
      "홍길동 70\n",
      "이순신 90\n",
      "임꺽정 55\n",
      "정난정 60\n",
      "이이 76\n",
      "이황 80\n",
      "정도전 76\n",
      "김철수1 88\n",
      "김철수2 30\n",
      "김철수3 25\n"
     ]
    }
   ],
   "source": [
    "print('='*20)\n",
    "print ('이름', '국어')\n",
    "print('='*20)\n",
    "for i in range(len(sr1)):\n",
    "    print (sr1.index[i], sr1[i])"
   ]
  },
  {
   "cell_type": "code",
   "execution_count": 164,
   "metadata": {},
   "outputs": [
    {
     "data": {
      "text/plain": [
       "김철수1    88\n",
       "김철수2    30\n",
       "김철수3    25\n",
       "이순신     90\n",
       "이이      76\n",
       "이황      80\n",
       "임꺽정     55\n",
       "정난정     60\n",
       "정도전     76\n",
       "홍길동     70\n",
       "Name: 국어점수, dtype: int64"
      ]
     },
     "execution_count": 164,
     "metadata": {},
     "output_type": "execute_result"
    }
   ],
   "source": [
    "sr1.sort_index()"
   ]
  },
  {
   "cell_type": "code",
   "execution_count": 160,
   "metadata": {},
   "outputs": [
    {
     "data": {
      "text/plain": [
       "홍길동      90\n",
       "이순신     110\n",
       "임꺽정      75\n",
       "정난정      80\n",
       "이이       96\n",
       "이황      100\n",
       "정도전      96\n",
       "김철수1    108\n",
       "김철수2     40\n",
       "김철수3     35\n",
       "Name: 국어점수, dtype: int64"
      ]
     },
     "execution_count": 160,
     "metadata": {},
     "output_type": "execute_result"
    }
   ],
   "source": [
    "sr1.apply(lambda n: n+20 if n>50 else n+10)"
   ]
  },
  {
   "cell_type": "code",
   "execution_count": 161,
   "metadata": {},
   "outputs": [
    {
     "data": {
      "text/plain": [
       "0.1    29.5\n",
       "0.5    73.0\n",
       "0.9    88.2\n",
       "Name: 국어점수, dtype: float64"
      ]
     },
     "execution_count": 161,
     "metadata": {},
     "output_type": "execute_result"
    }
   ],
   "source": [
    "sr1.quantile([0.1,0.5,0.9])"
   ]
  },
  {
   "cell_type": "code",
   "execution_count": 170,
   "metadata": {},
   "outputs": [
    {
     "ename": "TypeError",
     "evalue": "'str' object is not callable",
     "output_type": "error",
     "traceback": [
      "\u001b[1;31m---------------------------------------------------------------------------\u001b[0m",
      "\u001b[1;31mTypeError\u001b[0m                                 Traceback (most recent call last)",
      "\u001b[1;32m<ipython-input-170-44555706418d>\u001b[0m in \u001b[0;36m<module>\u001b[1;34m\u001b[0m\n\u001b[1;32m----> 1\u001b[1;33m \u001b[0mpd\u001b[0m\u001b[1;33m.\u001b[0m\u001b[0mcut\u001b[0m\u001b[1;33m(\u001b[0m\u001b[0msr1\u001b[0m\u001b[1;33m,\u001b[0m\u001b[1;36m5\u001b[0m\u001b[1;33m)\u001b[0m\u001b[1;33m.\u001b[0m\u001b[0mname\u001b[0m\u001b[1;33m(\u001b[0m\u001b[1;33m)\u001b[0m\u001b[1;33m\u001b[0m\u001b[1;33m\u001b[0m\u001b[0m\n\u001b[0m",
      "\u001b[1;31mTypeError\u001b[0m: 'str' object is not callable"
     ]
    }
   ],
   "source": [
    "pd.cut(sr1,5)name"
   ]
  },
  {
   "cell_type": "code",
   "execution_count": 1,
   "metadata": {},
   "outputs": [
    {
     "name": "stdout",
     "output_type": "stream",
     "text": [
      "aaa \t bbb\n"
     ]
    }
   ],
   "source": [
    "print ('aaa \\t bbb')"
   ]
  }
 ],
 "metadata": {
  "kernelspec": {
   "display_name": "Python 3",
   "language": "python",
   "name": "python3"
  },
  "language_info": {
   "codemirror_mode": {
    "name": "ipython",
    "version": 3
   },
   "file_extension": ".py",
   "mimetype": "text/x-python",
   "name": "python",
   "nbconvert_exporter": "python",
   "pygments_lexer": "ipython3",
   "version": "3.7.1"
  }
 },
 "nbformat": 4,
 "nbformat_minor": 2
}

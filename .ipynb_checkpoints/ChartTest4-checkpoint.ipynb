{
 "cells": [
  {
   "cell_type": "code",
   "execution_count": 1,
   "metadata": {},
   "outputs": [],
   "source": [
    "import pandas as pd\n",
    "import numpy as np\n",
    "import matplotlib.pyplot as plt\n",
    "import matplotlib\n",
    "\n",
    "# 글꼴을 바꿔라\n",
    "matplotlib.rcParams['font.family'] = 'Malgun Gothic'\n",
    "# 유니코드를 적용해라\n",
    "matplotlib.rcParams['axes.unicode_minus'] = False"
   ]
  },
  {
   "cell_type": "markdown",
   "metadata": {},
   "source": [
    "### 히스토그램"
   ]
  },
  {
   "cell_type": "code",
   "execution_count": 7,
   "metadata": {},
   "outputs": [
    {
     "name": "stdout",
     "output_type": "stream",
     "text": [
      "(array([1., 2., 3., 5., 6., 4., 3., 1.]), array([ 60.,  65.,  70.,  75.,  80.,  85.,  90.,  95., 100.]), <a list of 8 Patch objects>)\n",
      "[1. 2. 3. 5. 6. 4. 3. 1.]\n"
     ]
    },
    {
     "data": {
      "image/png": "[encoded data removed]",
      "text/plain": [
       "<Figure size 432x288 with 1 Axes>"
      ]
     },
     "metadata": {
      "needs_background": "light"
     },
     "output_type": "display_data"
    }
   ],
   "source": [
    "math = [76,82,84,83,90,\n",
    "        86,85,92,72,71,\n",
    "        100,87,81,76,94,\n",
    "        78,81,60,79,69,\n",
    "       74,87,82,68,79]\n",
    "\n",
    "# bins=8 => 분할 범위 갯수\n",
    "h = plt.hist(math,bins=8)\n",
    "print(h)\n",
    "print(h[0])\n",
    "# (array([1., 2., 3., 5., 6., 4., 3., 1.]), \n",
    "#  array([ 60.,  65.,  70.,  75.,  80.,  85.,  90.,  95., 100.])\n",
    "# 1-> 60~65 , 2 -> 65~70 .....범위로 매칭\n",
    "plt.xlabel('수학점수')\n",
    "plt.ylabel('도수')\n",
    "plt.title('수학점수 히스토그램')\n",
    "plt.grid(True)\n",
    "plt.show()"
   ]
  }
 ],
 "metadata": {
  "kernelspec": {
   "display_name": "Python 3",
   "language": "python",
   "name": "python3"
  },
  "language_info": {
   "codemirror_mode": {
    "name": "ipython",
    "version": 3
   },
   "file_extension": ".py",
   "mimetype": "text/x-python",
   "name": "python",
   "nbconvert_exporter": "python",
   "pygments_lexer": "ipython3",
   "version": "3.7.1"
  }
 },
 "nbformat": 4,
 "nbformat_minor": 2
}

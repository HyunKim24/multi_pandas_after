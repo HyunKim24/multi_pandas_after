{
 "cells": [
  {
   "cell_type": "code",
   "execution_count": 1,
   "metadata": {},
   "outputs": [],
   "source": [
    "import pandas as pd\n",
    "import numpy as np\n",
    "import matplotlib.pyplot as plt\n",
    "import matplotlib\n",
    "# 글꼴을 바꿔라\n",
    "matplotlib.rcParams['font.family'] = 'Malgun Gothic'\n",
    "# 유니코드를 적용해라\n",
    "matplotlib.rcParams['axes.unicode_minus'] = False"
   ]
  },
  {
   "cell_type": "code",
   "execution_count": 6,
   "metadata": {},
   "outputs": [
    {
     "data": {
      "text/plain": [
       "홍길동     90\n",
       "이순신     90\n",
       "임꺽정     55\n",
       "정난정     60\n",
       "이이      76\n",
       "이황      80\n",
       "정도전     76\n",
       "김철수1    88\n",
       "김철수2    30\n",
       "김철수3    25\n",
       "Name: 국어점수, dtype: int64"
      ]
     },
     "execution_count": 6,
     "metadata": {},
     "output_type": "execute_result"
    }
   ],
   "source": [
    "# name = 해당 시리즈의 label을 붙임\n",
    "sr = pd.Series([90,90,55,60,76,80,76,88,30,25],name=\"국어점수\")\n",
    "sr.index = ['홍길동','이순신','임꺽정','정난정','이이','이황','정도전','김철수1',\n",
    "           '김철수2','김철수3']\n",
    "sr"
   ]
  },
  {
   "cell_type": "code",
   "execution_count": 18,
   "metadata": {},
   "outputs": [
    {
     "data": {
      "text/plain": [
       "'국어점수'"
      ]
     },
     "execution_count": 18,
     "metadata": {},
     "output_type": "execute_result"
    }
   ],
   "source": [
    "sr.name"
   ]
  },
  {
   "cell_type": "code",
   "execution_count": 121,
   "metadata": {},
   "outputs": [],
   "source": [
    "%matplotlib inline"
   ]
  },
  {
   "cell_type": "code",
   "execution_count": 30,
   "metadata": {},
   "outputs": [],
   "source": [
    "# plot() => 메모리에 차트를 그림\n",
    "# plt.show() => 비디오 메모리에 전송되서 화면 메모리와 1:1 매핑되서 그걸 보여줌\n",
    "sr.plot(kind='barh') # 단순하게 jupyter notebook에서 보여주는 역할\n",
    "# https://pandas.pydata.org/pandas-docs/stable/generated/pandas.Series.plot.html\n",
    "plt.show() # 위에서 그린 차트를 비디오 메모리로 전송해 주는 method"
   ]
  },
  {
   "cell_type": "markdown",
   "metadata": {},
   "source": [
    "### (연습문제1)\n",
    "* 1. 국어 점수가 가장 큰 값을 구하시오\n",
    "* 2. 국어 점수가 가장 큰값의 이름을 구하시오\n",
    "* 3. 국어 점수가 80점 이상인 값을 구하시오\n",
    "* 4. 국어 점수가 50점 이상 80점 이하인 값을 구하시오\n",
    "* 5. 이름이 김으로 시작하는 데이터를 구하시오\n",
    "* 6. 국어 점수의 평균을 구하시오\n",
    "* 7. 국어 점수의 총 합을 구하시오\n",
    "* 8. 국어 점수의 표준편차를구하시오\n",
    "* 9. 국어 점수가 40점 이하인 데이터를 삭제하시오\n",
    "* 10. 국어 점수가 50점 이상인 데이터에 가산점 10%를 부여하시오\n",
    "* 11. 국어 점수 top 5를 구하시오\n",
    "* 12. 국어 점수가 50점 이상인 데이터의 바차트를 그리시오"
   ]
  },
  {
   "cell_type": "code",
   "execution_count": 91,
   "metadata": {},
   "outputs": [
    {
     "data": {
      "text/plain": [
       "90"
      ]
     },
     "execution_count": 91,
     "metadata": {},
     "output_type": "execute_result"
    }
   ],
   "source": [
    "# 1. 국어 점수가 가장 큰 값을 구하시오\n",
    "sr.max()"
   ]
  },
  {
   "cell_type": "code",
   "execution_count": 97,
   "metadata": {},
   "outputs": [
    {
     "name": "stdout",
     "output_type": "stream",
     "text": [
      "홍길동\n",
      "이순신\n"
     ]
    }
   ],
   "source": [
    "# 2. 국어 점수가 가장 큰값의 이름을 구하시오\n",
    "# sr.idxmax()\n",
    "# 추가) 만약 맥스가 여러개인 경우 아래와 같이 한다.\n",
    "# mx = sr.max()\n",
    "# sr[sr==mx]\n",
    "sr1 = sr[sr==sr.max()]\n",
    "for n in sr1.index:\n",
    "    print(n)"
   ]
  },
  {
   "cell_type": "code",
   "execution_count": 101,
   "metadata": {},
   "outputs": [
    {
     "data": {
      "text/plain": [
       "홍길동     90\n",
       "이순신     90\n",
       "이황      80\n",
       "김철수1    88\n",
       "Name: 국어점수, dtype: int64"
      ]
     },
     "execution_count": 101,
     "metadata": {},
     "output_type": "execute_result"
    }
   ],
   "source": [
    "# 3. 국어 점수가 80점 이상인 값을 구하시오\n",
    "sr[(sr>=80)]"
   ]
  },
  {
   "cell_type": "code",
   "execution_count": 102,
   "metadata": {},
   "outputs": [
    {
     "data": {
      "text/plain": [
       "임꺽정    55\n",
       "정난정    60\n",
       "이이     76\n",
       "이황     80\n",
       "정도전    76\n",
       "Name: 국어점수, dtype: int64"
      ]
     },
     "execution_count": 102,
     "metadata": {},
     "output_type": "execute_result"
    }
   ],
   "source": [
    "# 4. 국어 점수가 50점 이상 80점 이하인 값을 구하시오\n",
    "sr[(sr>=50) & (sr<=80)]"
   ]
  },
  {
   "cell_type": "code",
   "execution_count": 104,
   "metadata": {},
   "outputs": [
    {
     "data": {
      "text/plain": [
       "김철수1    88\n",
       "김철수2    30\n",
       "김철수3    25\n",
       "Name: 국어점수, dtype: int64"
      ]
     },
     "execution_count": 104,
     "metadata": {},
     "output_type": "execute_result"
    }
   ],
   "source": [
    "# 5. 이름이 김으로 시작하는 데이터를 구하시오\n",
    "sr[sr.index.str.contains('^김')]"
   ]
  },
  {
   "cell_type": "code",
   "execution_count": 105,
   "metadata": {},
   "outputs": [
    {
     "data": {
      "text/plain": [
       "67.0"
      ]
     },
     "execution_count": 105,
     "metadata": {},
     "output_type": "execute_result"
    }
   ],
   "source": [
    "# 6. 국어 점수의 평균을 구하시오\n",
    "sr.mean()"
   ]
  },
  {
   "cell_type": "code",
   "execution_count": 106,
   "metadata": {},
   "outputs": [
    {
     "data": {
      "text/plain": [
       "670"
      ]
     },
     "execution_count": 106,
     "metadata": {},
     "output_type": "execute_result"
    }
   ],
   "source": [
    "# 7. 국어 점수의 총 합을 구하시오\n",
    "sr.sum()"
   ]
  },
  {
   "cell_type": "code",
   "execution_count": 107,
   "metadata": {},
   "outputs": [
    {
     "data": {
      "text/plain": [
       "23.935097428021656"
      ]
     },
     "execution_count": 107,
     "metadata": {},
     "output_type": "execute_result"
    }
   ],
   "source": [
    "# 8. 국어 점수의 표준편차를구하시오 (표준편차는 작을 수록 점수가 모여있다.)\n",
    "sr.std()"
   ]
  },
  {
   "cell_type": "code",
   "execution_count": 113,
   "metadata": {},
   "outputs": [
    {
     "data": {
      "text/plain": [
       "홍길동     90\n",
       "이순신     90\n",
       "임꺽정     55\n",
       "정난정     60\n",
       "이이      76\n",
       "이황      80\n",
       "정도전     76\n",
       "김철수1    88\n",
       "Name: 국어점수, dtype: int64"
      ]
     },
     "execution_count": 113,
     "metadata": {},
     "output_type": "execute_result"
    }
   ],
   "source": [
    "# 9. 국어 점수가 40점 이하인 데이터를 삭제하시오\n",
    "sr = sr[sr>40] # sr[~(sr<=40)]\n",
    "sr\n"
   ]
  },
  {
   "cell_type": "code",
   "execution_count": 117,
   "metadata": {},
   "outputs": [
    {
     "data": {
      "text/plain": [
       "홍길동     90.0\n",
       "이순신     90.0\n",
       "임꺽정     55.0\n",
       "정난정     60.0\n",
       "이이      76.0\n",
       "이황      80.0\n",
       "정도전     76.0\n",
       "김철수1    88.0\n",
       "김철수2    33.0\n",
       "김철수3    27.5\n",
       "Name: 국어점수, dtype: float64"
      ]
     },
     "execution_count": 117,
     "metadata": {},
     "output_type": "execute_result"
    }
   ],
   "source": [
    "# 10. 국어 점수가 50점 이상인 데이터에 가산점 10%를 부여하시오\n",
    "sr.apply(lambda n:n*1.1 if n>=50 else n)\n",
    "# 10. 국어 점수가 50점 이하인 데이터에 가산점 10%를 부여하시오\n",
    "sr[sr<=50] = sr[sr<=50]*1.1\n",
    "sr"
   ]
  },
  {
   "cell_type": "code",
   "execution_count": 119,
   "metadata": {},
   "outputs": [
    {
     "data": {
      "text/plain": [
       "이순신     90\n",
       "홍길동     90\n",
       "김철수1    88\n",
       "이황      80\n",
       "정도전     76\n",
       "Name: 국어점수, dtype: int64"
      ]
     },
     "execution_count": 119,
     "metadata": {},
     "output_type": "execute_result"
    }
   ],
   "source": [
    "# 11. 국어 점수 top 5를 구하시오\n",
    "sr.sort_values(ascending=False)[0:5]"
   ]
  },
  {
   "cell_type": "code",
   "execution_count": 122,
   "metadata": {},
   "outputs": [
    {
     "data": {
      "image/png": "[encoded data removed]",
      "text/plain": [
       "<Figure size 432x288 with 1 Axes>"
      ]
     },
     "metadata": {
      "needs_background": "light"
     },
     "output_type": "display_data"
    }
   ],
   "source": [
    "# 12. 국어 점수가 50점 이상인 데이터의 바차트를 그리시오\n",
    "sr[sr>=50].plot(kind='bar')\n",
    "plt.show()"
   ]
  },
  {
   "cell_type": "code",
   "execution_count": 123,
   "metadata": {},
   "outputs": [],
   "source": [
    "# 경로를 따로 지정 하지 않으면 excel파일이 현재 경로에 저장됨\n",
    "# to_파일 확장자\n",
    "sr.to_excel('a.xlsx')"
   ]
  },
  {
   "cell_type": "code",
   "execution_count": 124,
   "metadata": {},
   "outputs": [
    {
     "data": {
      "text/plain": [
       "90    2\n",
       "76    2\n",
       "30    1\n",
       "60    1\n",
       "25    1\n",
       "88    1\n",
       "55    1\n",
       "80    1\n",
       "Name: 국어점수, dtype: int64"
      ]
     },
     "execution_count": 124,
     "metadata": {},
     "output_type": "execute_result"
    }
   ],
   "source": [
    "# 분포되어 있는 값이 몇개씩 있는지에 대한 갯수를 설정 할 수 있다.\n",
    "sr.value_counts()"
   ]
  },
  {
   "cell_type": "code",
   "execution_count": 127,
   "metadata": {},
   "outputs": [
    {
     "data": {
      "text/plain": [
       "홍길동       (80.714, 90.0]\n",
       "이순신       (80.714, 90.0]\n",
       "임꺽정     (52.857, 62.143]\n",
       "정난정     (52.857, 62.143]\n",
       "이이      (71.429, 80.714]\n",
       "이황      (71.429, 80.714]\n",
       "정도전     (71.429, 80.714]\n",
       "김철수1      (80.714, 90.0]\n",
       "김철수2    (24.935, 34.286]\n",
       "김철수3    (24.935, 34.286]\n",
       "Name: 국어점수, dtype: category\n",
       "Categories (7, interval[float64]): [(24.935, 34.286] < (34.286, 43.571] < (43.571, 52.857] < (52.857, 62.143] < (62.143, 71.429] < (71.429, 80.714] < (80.714, 90.0]]"
      ]
     },
     "execution_count": 127,
     "metadata": {},
     "output_type": "execute_result"
    }
   ],
   "source": [
    "# 이 시리즈를 n개로 컷해라\n",
    "# pd.cut(sr,n)\n",
    "pd.cut(sr,7)"
   ]
  },
  {
   "cell_type": "code",
   "execution_count": 128,
   "metadata": {},
   "outputs": [
    {
     "data": {
      "text/plain": [
       "(80.714, 90.0]      3\n",
       "(71.429, 80.714]    3\n",
       "(52.857, 62.143]    2\n",
       "(24.935, 34.286]    2\n",
       "(62.143, 71.429]    0\n",
       "(43.571, 52.857]    0\n",
       "(34.286, 43.571]    0\n",
       "Name: 국어점수, dtype: int64"
      ]
     },
     "execution_count": 128,
     "metadata": {},
     "output_type": "execute_result"
    }
   ],
   "source": [
    "#  (80.714, 90.0]      3 => 80.714~90.0의 사이의 값이 몇개인지를 알려줌\n",
    "pd.cut(sr,7).value_countsue_counts()"
   ]
  },
  {
   "cell_type": "code",
   "execution_count": 130,
   "metadata": {},
   "outputs": [
    {
     "data": {
      "image/png": "[encoded data removed]",
      "text/plain": [
       "<Figure size 432x288 with 1 Axes>"
      ]
     },
     "metadata": {
      "needs_background": "light"
     },
     "output_type": "display_data"
    }
   ],
   "source": [
    "# 7개로 분할 했을 때 각각의 도수\n",
    "# 결과해석 = 70~80점대에 많이 분포 되어있다.\n",
    "# 높은 점수대에 좀 많은 사람이 있다라는 결과를 예측 할 수 있다.\n",
    "sr.hist(bins=7)\n",
    "plt.show()"
   ]
  },
  {
   "cell_type": "markdown",
   "metadata": {},
   "source": [
    "### (연습문제2)\n",
    "* 13. 이름순으로 정렬하시오\n",
    "* 14. 키보드로 입력바다 검색된 이름의 점수를 구하시오\n",
    ">ex) 이름:홍길동 ==> 결과 : 70\n",
    "* 15. 데이터를 다음과 같이 출력하시오\n",
    "*  <-------------------->\n",
    "*    이름       국어\n",
    "*  <-------------------->\n",
    "*     홍길동      70\n",
    "*     ...\n",
    "*     김철수3     25\n",
    "* 16. 국어점수 50점 이하는 가산점 20을 부여하고 국어점수 50점 초과는 가산점 10을 부여하시오\n",
    "* 17. 국어점수 10% 50% 90%에 해당하는 값을 구하시오\n",
    "* 18. 국어점수를 5개 점수대로 분할 한 경우 각 도수를 구하시오"
   ]
  },
  {
   "cell_type": "code",
   "execution_count": 132,
   "metadata": {},
   "outputs": [
    {
     "data": {
      "text/plain": [
       "김철수1    88\n",
       "김철수2    30\n",
       "김철수3    25\n",
       "이순신     90\n",
       "이이      76\n",
       "이황      80\n",
       "임꺽정     55\n",
       "정난정     60\n",
       "정도전     76\n",
       "홍길동     90\n",
       "Name: 국어점수, dtype: int64"
      ]
     },
     "execution_count": 132,
     "metadata": {},
     "output_type": "execute_result"
    }
   ],
   "source": [
    "# 13. 이름순으로 정렬하시오\n",
    "sr.sort_index(ascending=True)"
   ]
  },
  {
   "cell_type": "code",
   "execution_count": 3,
   "metadata": {},
   "outputs": [
    {
     "name": "stdout",
     "output_type": "stream",
     "text": [
      "이름:홍길동\n"
     ]
    },
    {
     "data": {
      "text/plain": [
       "홍길동    90\n",
       "Name: 국어점수, dtype: int64"
      ]
     },
     "execution_count": 3,
     "metadata": {},
     "output_type": "execute_result"
    }
   ],
   "source": [
    "# 14. 키보드로 입력바다 검색된 이름의 점수를 구하시오\n",
    "# user_key = input('이름:')\n",
    "# for name in sr.index:\n",
    "#     if user_key == name:\n",
    "#         print(sr[user_key])\n",
    "inData = input('이름:')\n",
    "sr[inData == sr.index]"
   ]
  },
  {
   "cell_type": "code",
   "execution_count": 4,
   "metadata": {
    "scrolled": true
   },
   "outputs": [
    {
     "name": "stdout",
     "output_type": "stream",
     "text": [
      "====================\n",
      "이름\t국어\n",
      "====================\n",
      "홍길동\t90\n",
      "이순신\t90\n",
      "임꺽정\t55\n",
      "정난정\t60\n",
      "이이\t76\n",
      "이황\t80\n",
      "정도전\t76\n",
      "김철수1\t88\n",
      "김철수2\t30\n",
      "김철수3\t25\n"
     ]
    }
   ],
   "source": [
    "# 15. 데이터를 다음과 같이 출력하시오\n",
    "# --------------------\n",
    "#   이름        국어\n",
    "# --------------------\n",
    "#  홍길동        70\n",
    "#   ...\n",
    "#  김철수3       25\n",
    "# sr.index.name = '이름'\n",
    "# sr.to_frame()\n",
    "\n",
    "print('='*20)\n",
    "print('이름\\t국어')\n",
    "print('='*20)\n",
    "for n,v in sr.items():\n",
    "    print('%s\\t%d' %(n,v))"
   ]
  },
  {
   "cell_type": "code",
   "execution_count": 8,
   "metadata": {},
   "outputs": [
    {
     "data": {
      "text/plain": [
       "홍길동     99.0\n",
       "이순신     99.0\n",
       "임꺽정     60.5\n",
       "정난정     66.0\n",
       "이이      83.6\n",
       "이황      88.0\n",
       "정도전     83.6\n",
       "김철수1    96.8\n",
       "김철수2    36.0\n",
       "김철수3    30.0\n",
       "Name: 국어점수, dtype: float64"
      ]
     },
     "execution_count": 8,
     "metadata": {},
     "output_type": "execute_result"
    }
   ],
   "source": [
    "# 16. 국어점수 50점 이하는 가산점 20을 부여하고 국어점수 50점 초과는 가산점 10을 부여하시오\n",
    "sr.apply(lambda n:n*1.1 if n>50 else n*1.2)"
   ]
  },
  {
   "cell_type": "code",
   "execution_count": 10,
   "metadata": {},
   "outputs": [],
   "source": [
    "# lambda로 표현하기 어려운 것은 함수로 정의 한 뒤 함수를 시리즈에 적용시켜서 \n",
    "# 조건을 만족시킨다.\n",
    "\n",
    "def fn(n):\n",
    "    if n<=30:\n",
    "        return n*1.1\n",
    "    elif 30<n<=70:\n",
    "        return n*1.2\n",
    "    else:\n",
    "        return n*1.3\n"
   ]
  },
  {
   "cell_type": "code",
   "execution_count": 11,
   "metadata": {},
   "outputs": [
    {
     "data": {
      "text/plain": [
       "홍길동     117.0\n",
       "이순신     117.0\n",
       "임꺽정      66.0\n",
       "정난정      72.0\n",
       "이이       98.8\n",
       "이황      104.0\n",
       "정도전      98.8\n",
       "김철수1    114.4\n",
       "김철수2     33.0\n",
       "김철수3     27.5\n",
       "Name: 국어점수, dtype: float64"
      ]
     },
     "execution_count": 11,
     "metadata": {},
     "output_type": "execute_result"
    }
   ],
   "source": [
    "sr.apply(fn)"
   ]
  },
  {
   "cell_type": "code",
   "execution_count": 16,
   "metadata": {},
   "outputs": [
    {
     "data": {
      "text/plain": [
       "0.1    29.5\n",
       "0.5    76.0\n",
       "0.9    90.0\n",
       "Name: 국어점수, dtype: float64"
      ]
     },
     "execution_count": 16,
     "metadata": {},
     "output_type": "execute_result"
    }
   ],
   "source": [
    "# 17. 국어점수 10% 50% 90%에 해당하는 값을 구하시오\n",
    "sr.quantile([0.1,0.5,0.9])"
   ]
  },
  {
   "cell_type": "code",
   "execution_count": 12,
   "metadata": {},
   "outputs": [
    {
     "data": {
      "text/plain": [
       "(77.0, 90.0]      4\n",
       "(64.0, 77.0]      2\n",
       "(51.0, 64.0]      2\n",
       "(24.935, 38.0]    2\n",
       "(38.0, 51.0]      0\n",
       "Name: 국어점수, dtype: int64"
      ]
     },
     "execution_count": 12,
     "metadata": {},
     "output_type": "execute_result"
    }
   ],
   "source": [
    "# 18. 국어점수를 5개 점수대로 분할 한 경우 각 도수를 구하시오\n",
    "pd.cut(sr,5).value_counts()\n",
    "# sr.hist(bins=5)\n",
    "# plt.show()"
   ]
  }
 ],
 "metadata": {
  "kernelspec": {
   "display_name": "Python 3",
   "language": "python",
   "name": "python3"
  },
  "language_info": {
   "codemirror_mode": {
    "name": "ipython",
    "version": 3
   },
   "file_extension": ".py",
   "mimetype": "text/x-python",
   "name": "python",
   "nbconvert_exporter": "python",
   "pygments_lexer": "ipython3",
   "version": "3.7.1"
  }
 },
 "nbformat": 4,
 "nbformat_minor": 2
}

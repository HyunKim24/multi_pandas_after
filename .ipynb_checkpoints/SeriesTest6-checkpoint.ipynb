{
 "cells": [
  {
   "cell_type": "code",
   "execution_count": 7,
   "metadata": {},
   "outputs": [],
   "source": [
    "import pandas as pd\n",
    "import numpy as np"
   ]
  },
  {
   "cell_type": "code",
   "execution_count": 16,
   "metadata": {},
   "outputs": [
    {
     "data": {
      "text/plain": [
       "aa     10\n",
       "cc    200\n",
       "dd     30\n",
       "bb     40\n",
       "dtype: int64"
      ]
     },
     "execution_count": 16,
     "metadata": {},
     "output_type": "execute_result"
    }
   ],
   "source": [
    "sr = pd.Series([10,200,30,40],index=['aa','cc','dd','bb'])\n",
    "sr"
   ]
  },
  {
   "cell_type": "markdown",
   "metadata": {},
   "source": [
    "### 데이터 추가"
   ]
  },
  {
   "cell_type": "code",
   "execution_count": 3,
   "metadata": {},
   "outputs": [
    {
     "data": {
      "text/plain": [
       "aa    10\n",
       "bb    20\n",
       "cc    30\n",
       "dd    40\n",
       "ee    50\n",
       "dtype: int64"
      ]
     },
     "execution_count": 3,
     "metadata": {},
     "output_type": "execute_result"
    }
   ],
   "source": [
    "# 'ee' 인덱스가 없으면 추가되고 있으면 수정된다.\n",
    "sr['ee'] = 50\n",
    "sr"
   ]
  },
  {
   "cell_type": "code",
   "execution_count": 8,
   "metadata": {},
   "outputs": [
    {
     "data": {
      "text/plain": [
       "aa    10\n",
       "bb    20\n",
       "cc    30\n",
       "dd    40\n",
       "ff     1\n",
       "gg     2\n",
       "hh     3\n",
       "dtype: int64"
      ]
     },
     "execution_count": 8,
     "metadata": {},
     "output_type": "execute_result"
    }
   ],
   "source": [
    "# append를 하게되면 새로운 시리즈 객체를 반환한다. 그래서 시리즈 객체를 새로 받아 줘야 한다.\n",
    "# 인덱스를 부여하지 않으면 zero based를 기준으로 한다.\n",
    "sr = sr.append(pd.Series([1,2,3],index = ['ff','gg','hh']))\n",
    "sr"
   ]
  },
  {
   "cell_type": "markdown",
   "metadata": {},
   "source": [
    "### 데이터 삭제"
   ]
  },
  {
   "cell_type": "code",
   "execution_count": 12,
   "metadata": {},
   "outputs": [
    {
     "data": {
      "text/plain": [
       "aa    10\n",
       "cc    30\n",
       "dd    40\n",
       "dtype: int64"
      ]
     },
     "execution_count": 12,
     "metadata": {},
     "output_type": "execute_result"
    }
   ],
   "source": [
    "# 기존 시리즈의 객체에 overwirte하는 개념으로 데이터를 삭제한다.\n",
    "sr = sr[sr!=20] # 20이 삭제됨\n",
    "sr"
   ]
  },
  {
   "cell_type": "code",
   "execution_count": 20,
   "metadata": {},
   "outputs": [
    {
     "data": {
      "text/plain": [
       "bb    20\n",
       "cc    30\n",
       "dd    40\n",
       "dtype: int64"
      ]
     },
     "execution_count": 20,
     "metadata": {},
     "output_type": "execute_result"
    }
   ],
   "source": [
    "# 멤버함수를 통해 삭제하는 방법 drop 여기도 새로운 sr 객체로 반환하여 받자.\n",
    "# sr = sr.drop('aa') # => 인덱스를 통한 삭제\n",
    "# 시리즈 자체의 내부 value를 직접 삭제해버리려면 inplace 씀 => 새롭게 안받아도 됨\n",
    "sr.drop('aa',inplace=True)\n",
    "sr"
   ]
  },
  {
   "cell_type": "code",
   "execution_count": 10,
   "metadata": {},
   "outputs": [
    {
     "data": {
      "text/plain": [
       "bb    20\n",
       "dd    40\n",
       "dtype: int64"
      ]
     },
     "execution_count": 10,
     "metadata": {},
     "output_type": "execute_result"
    }
   ],
   "source": [
    "# 여러개 인덱스를 삭제 할 경우 리스트로 인자를 준다.\n",
    "sr.drop(['aa','cc'],inplace=True)\n",
    "sr"
   ]
  },
  {
   "cell_type": "code",
   "execution_count": 15,
   "metadata": {},
   "outputs": [
    {
     "data": {
      "text/plain": [
       "bb    20\n",
       "cc    30\n",
       "dd    40\n",
       "dtype: int64"
      ]
     },
     "execution_count": 15,
     "metadata": {},
     "output_type": "execute_result"
    }
   ],
   "source": [
    "# del을 이용하여 삭제하는 경우\n",
    "del(sr['aa']) # del(sr['aa':'cc'])\n",
    "sr"
   ]
  },
  {
   "cell_type": "markdown",
   "metadata": {},
   "source": [
    "### 데이터정렬"
   ]
  },
  {
   "cell_type": "code",
   "execution_count": 22,
   "metadata": {},
   "outputs": [
    {
     "data": {
      "text/plain": [
       "cc    200\n",
       "bb     40\n",
       "dd     30\n",
       "aa     10\n",
       "dtype: int64"
      ]
     },
     "execution_count": 22,
     "metadata": {},
     "output_type": "execute_result"
    }
   ],
   "source": [
    "# sort는 인덱스 기준으로 할 수 있다.(sort_index(ascending=True)) => 오름차순 정렬\n",
    "#                                   (sort_index(ascending=False)) => 내림차순 정렬\n",
    "# sr.sort_index(ascending=False)\n",
    "\n",
    "# sort는 값 기준으로 할 수 있다.(sort_values(ascending=True)) => 오름차순 정렬\n",
    "#                               (sort_values(ascending=False)) => 내림차순 정렬\n",
    "sr.sort_values(ascending=False)"
   ]
  },
  {
   "cell_type": "markdown",
   "metadata": {},
   "source": [
    "### 데이터 검색\n",
    "* 숫자일 경우는 관계 연산자를 이용한다.(위에 했음)\n",
    "* boolean 값은 항상 인덱스로 들어갈 수 있다.\n",
    "* 문자일 경우는 contains(패턴매칭)를 이용하여 검색한다."
   ]
  },
  {
   "cell_type": "code",
   "execution_count": 34,
   "metadata": {},
   "outputs": [
    {
     "data": {
      "text/plain": [
       "ab    applei\n",
       "cd      kixi\n",
       "ef    banana\n",
       "gh     apply\n",
       "dtype: object"
      ]
     },
     "execution_count": 34,
     "metadata": {},
     "output_type": "execute_result"
    }
   ],
   "source": [
    "sr1 = pd.Series(['applei','kixi','banana','apply'])\n",
    "sr1.index = ['ab','cd','ef','gh']\n",
    "sr1"
   ]
  },
  {
   "cell_type": "code",
   "execution_count": 27,
   "metadata": {},
   "outputs": [
    {
     "data": {
      "text/plain": [
       "ab    apple\n",
       "gh    apply\n",
       "dtype: object"
      ]
     },
     "execution_count": 27,
     "metadata": {},
     "output_type": "execute_result"
    }
   ],
   "source": [
    "# str.contains('keyword') => 문자열일 경우 이렇게 검색을 한다.\n",
    "sr1[sr1.str.contains('app')]"
   ]
  },
  {
   "cell_type": "code",
   "execution_count": 35,
   "metadata": {},
   "outputs": [
    {
     "data": {
      "text/plain": [
       "ab    applei\n",
       "cd      kixi\n",
       "dtype: object"
      ]
     },
     "execution_count": 35,
     "metadata": {},
     "output_type": "execute_result"
    }
   ],
   "source": [
    "# 정규식패턴을 이용하여 검색하겠다. => # str.contains('keyword',regex = True) \n",
    "# 정규식 패턴 중 [abc]d 라고 하면 ad bd cd 가 들어간 문자열을 다 찾겠다.\n",
    "sr1[sr1.str.contains('[vwx]i',regex=True)]\n",
    "# 정규식 패턴 중 [a-z]i 라고 하면 ai bi ci di....zi까지 다 찾아주겠다.\n",
    "sr1[sr1.str.contains('[a-z]i',regex=True)]"
   ]
  },
  {
   "cell_type": "code",
   "execution_count": 50,
   "metadata": {},
   "outputs": [
    {
     "data": {
      "text/plain": [
       "0    김철수\n",
       "1    이순신\n",
       "2     이이\n",
       "3     이황\n",
       "4     김이\n",
       "5    박김이\n",
       "dtype: object"
      ]
     },
     "execution_count": 50,
     "metadata": {},
     "output_type": "execute_result"
    }
   ],
   "source": [
    "sr2 = pd.Series(['김철수','이순신','이이','이황','김이','박김이'])\n",
    "sr2"
   ]
  },
  {
   "cell_type": "code",
   "execution_count": 51,
   "metadata": {},
   "outputs": [
    {
     "data": {
      "text/plain": [
       "0    김철수\n",
       "4     김이\n",
       "dtype: object"
      ]
     },
     "execution_count": 51,
     "metadata": {},
     "output_type": "execute_result"
    }
   ],
   "source": [
    "# .contains('^김',regex=True)] => 김으로 시작하는 것만 찾아라 (^ => 시작을 의미함)\n",
    "sr2[sr2.str.contains('^김',regex=True)] # 갂이"
   ]
  },
  {
   "cell_type": "code",
   "execution_count": 45,
   "metadata": {},
   "outputs": [
    {
     "data": {
      "text/plain": [
       "2    이이\n",
       "4    김이\n",
       "dtype: object"
      ]
     },
     "execution_count": 45,
     "metadata": {},
     "output_type": "execute_result"
    }
   ],
   "source": [
    "# str.contains('[김이]이',regex=True)] => 김이 혹은 이이 데이터 추출\n",
    "# sr2[sr2.str.contains('이')]\n",
    "# sr2[sr2.str.contains('[김이]이',regex=True)]\n",
    "\n",
    "# 정규식 패턴 중 str.contains('[가-힣]이',regex=True)] => 한글 아무거나 앞자리 + 이\n",
    "sr2[sr2.str.contains('[가-힣]이',regex=True)] # 갂이"
   ]
  },
  {
   "cell_type": "code",
   "execution_count": 46,
   "metadata": {},
   "outputs": [
    {
     "data": {
      "text/plain": [
       "0      11-22\n",
       "1    111-222\n",
       "2      22-33\n",
       "3    333-444\n",
       "dtype: object"
      ]
     },
     "execution_count": 46,
     "metadata": {},
     "output_type": "execute_result"
    }
   ],
   "source": [
    "sr3 = pd.Series(['11-22','111-222','22-33','333-444'])\n",
    "sr3"
   ]
  },
  {
   "cell_type": "code",
   "execution_count": 52,
   "metadata": {},
   "outputs": [
    {
     "data": {
      "text/plain": [
       "0    11-22\n",
       "2    22-33\n",
       "dtype: object"
      ]
     },
     "execution_count": 52,
     "metadata": {},
     "output_type": "execute_result"
    }
   ],
   "source": [
    "# .contains('\\d',regex=True) => 숫자 범위는 [0-9]\n",
    "sr3[sr3.str.contains('\\d{2}-\\d{2}',regex=True)] #[0-9]\n",
    "\n",
    "# ^\\d{2}-\\d{2} 무조건 두자리숫자-뒤에 숫자 이런 형태를 찾아라(반복)\n",
    "sr3[sr3.str.contains('^\\d{2}-\\d{2}',regex=True)] # 숫자 두개로 시작하고 다시 숫자 2개"
   ]
  },
  {
   "cell_type": "code",
   "execution_count": 54,
   "metadata": {},
   "outputs": [
    {
     "data": {
      "text/plain": [
       "ab    applei\n",
       "cd      kixi\n",
       "ef    banana\n",
       "gh     apply\n",
       "dtype: object"
      ]
     },
     "execution_count": 54,
     "metadata": {},
     "output_type": "execute_result"
    }
   ],
   "source": [
    "sr1"
   ]
  },
  {
   "cell_type": "code",
   "execution_count": 56,
   "metadata": {},
   "outputs": [
    {
     "data": {
      "text/plain": [
       "ab    applei\n",
       "dtype: object"
      ]
     },
     "execution_count": 56,
     "metadata": {},
     "output_type": "execute_result"
    }
   ],
   "source": [
    "# sr1의 인덱스에 a가 포함된 모든것을 찾아라\n",
    "sr1[sr1.index.str.contains('a')]"
   ]
  }
 ],
 "metadata": {
  "kernelspec": {
   "display_name": "Python 3",
   "language": "python",
   "name": "python3"
  },
  "language_info": {
   "codemirror_mode": {
    "name": "ipython",
    "version": 3
   },
   "file_extension": ".py",
   "mimetype": "text/x-python",
   "name": "python",
   "nbconvert_exporter": "python",
   "pygments_lexer": "ipython3",
   "version": "3.7.1"
  }
 },
 "nbformat": 4,
 "nbformat_minor": 2
}

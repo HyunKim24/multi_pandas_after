{
 "cells": [
  {
   "cell_type": "code",
   "execution_count": 2,
   "metadata": {},
   "outputs": [],
   "source": [
    "import pandas as pd\n",
    "import numpy as np"
   ]
  },
  {
   "cell_type": "code",
   "execution_count": 3,
   "metadata": {},
   "outputs": [
    {
     "data": {
      "text/plain": [
       "aa    10\n",
       "bb    20\n",
       "cc    30\n",
       "dd    40\n",
       "dtype: int64"
      ]
     },
     "execution_count": 3,
     "metadata": {},
     "output_type": "execute_result"
    }
   ],
   "source": [
    "sr = pd.Series([10,20,30,40],index=['aa','bb','cc','dd'])\n",
    "sr"
   ]
  },
  {
   "cell_type": "code",
   "execution_count": 7,
   "metadata": {},
   "outputs": [
    {
     "data": {
      "text/plain": [
       "30"
      ]
     },
     "execution_count": 7,
     "metadata": {},
     "output_type": "execute_result"
    }
   ],
   "source": [
    "# 객체명[index] : 인덱싱은 파이썬의 기본 문법과 같음\n",
    "# sr[0] 첫번째 요소가 나옴\n",
    "# sr[-1] 마지막 요소가 나옴\n",
    "# sr['aa'] 부여된 인덱스는 딕셔너리의 키를 주고 값을 구하는 원리와 같음\n",
    "sr['cc']"
   ]
  },
  {
   "cell_type": "code",
   "execution_count": 9,
   "metadata": {},
   "outputs": [
    {
     "data": {
      "text/plain": [
       "aa    10\n",
       "bb    20\n",
       "cc    30\n",
       "dtype: int64"
      ]
     },
     "execution_count": 9,
     "metadata": {},
     "output_type": "execute_result"
    }
   ],
   "source": [
    "# 시리즈 슬라이싱하면 시리즈 객체로 반환된다.\n",
    "# $$리스트에서는 슬라이싱 하면 리스트 객체다.\n",
    "# sr[1:4] # 1<=sr<4 (1번부터 3번의 인덱스 값이 추출됨)\n",
    "sr['aa':'cc'] # aa<=sr<=cc 부여된 인덱스는 마지막 값이 포함되어 추출된다."
   ]
  },
  {
   "cell_type": "code",
   "execution_count": 12,
   "metadata": {},
   "outputs": [
    {
     "data": {
      "text/plain": [
       "10"
      ]
     },
     "execution_count": 12,
     "metadata": {},
     "output_type": "execute_result"
    }
   ],
   "source": [
    "# iloc['인덱스명'] => 인덱스명 자리에는 반드시 zero based된 인덱스를 주어야 하며 우리가 부여한\n",
    "# 인덱스를 주면 에러가 난다. (아래 결과 확인할것)\n",
    "# sr.iloc[0] # sr[0]과 같다\n",
    "# sr.iloc['aa'] # sr[0]과 같다 <= 에러\n",
    "\n",
    "# loc : 반드시 부여된 인덱스를 주어야 한다. zero based된 인덱스를 주면 에러가 난다.\n",
    "sr.loc['aa'] # sr['aa']"
   ]
  },
  {
   "cell_type": "code",
   "execution_count": 14,
   "metadata": {},
   "outputs": [
    {
     "data": {
      "text/plain": [
       "0    10\n",
       "1    20\n",
       "2    30\n",
       "3    40\n",
       "dtype: int64"
      ]
     },
     "execution_count": 14,
     "metadata": {},
     "output_type": "execute_result"
    }
   ],
   "source": [
    "# 부여된 인덱스와 zero based된 인덱스가 똑같다.\n",
    "sr = pd.Series([10,20,30,40],index=[0,1,2,3])\n",
    "sr"
   ]
  },
  {
   "cell_type": "code",
   "execution_count": 17,
   "metadata": {},
   "outputs": [
    {
     "data": {
      "text/plain": [
       "40"
      ]
     },
     "execution_count": 17,
     "metadata": {},
     "output_type": "execute_result"
    }
   ],
   "source": [
    "# sr[0]\n",
    "# 부여된 인덱스에 -1이 없기 때문에 에러가 난다.\n",
    "# zero based 인덱스와 부여된 인덱스가 겹치게 되면 부여된 인덱스를 기준으로 한다.\n",
    "# sr[-1] <=에러\n",
    "# iloc은 zero based된 것을 기준으로 하기  때문에 에러가 나지 않음\n",
    "# 문자열로 인덱스를 부여하는것이 편하다. \n",
    "# 두개가 구분이 되니까 하지만 인덱스가 숫자가 될시에는 정확하게 구분하여 사용해야한다.\n",
    "sr.iloc[-1]"
   ]
  }
 ],
 "metadata": {
  "kernelspec": {
   "display_name": "Python 3",
   "language": "python",
   "name": "python3"
  },
  "language_info": {
   "codemirror_mode": {
    "name": "ipython",
    "version": 3
   },
   "file_extension": ".py",
   "mimetype": "text/x-python",
   "name": "python",
   "nbconvert_exporter": "python",
   "pygments_lexer": "ipython3",
   "version": "3.7.1"
  }
 },
 "nbformat": 4,
 "nbformat_minor": 2
}

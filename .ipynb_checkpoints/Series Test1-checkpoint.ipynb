{
 "cells": [
  {
   "cell_type": "code",
   "execution_count": 1,
   "metadata": {},
   "outputs": [],
   "source": [
    "import pandas as pd\n",
    "import numpy as np"
   ]
  },
  {
   "cell_type": "code",
   "execution_count": null,
   "metadata": {},
   "outputs": [],
   "source": [
    "# 1차원 구조(파이썬에서 제공하는 1차원 자료구조 - 리스트,딕셔너리,튜플)\n",
    "myList = [10,20,30,40] # 1차원\n",
    "d = {'aa':10,'bb':20,'cc':30} # 1차원\n",
    "t = (10,20,30,40) # 1차원\n",
    "# 2차원 구조(데이터 프레임에서 쓰임 ex> 리스트의 리스트 구조, 리스트의 튜플 구조, 리스트의 딕셔너리 구조)\n",
    "myList1 = [(10,20),(30,40),(50,60)] #2차원(리스트의 튜플 구조)\n",
    "myList1 = [[10,20],[30,40],[50,60]] #2차원(리스트의 리스트 구조)\n",
    "d1 = [{'kor':10,'eng':20},{'kor':30,'eng':40}] #2차원(리스트의 딕셔너리 구조)\n",
    "d2 = {'kor':[10,20,30],'eng':[40,50,60]} #2차원(딕셔너리의 value가 리스트인 구조)"
   ]
  },
  {
   "cell_type": "code",
   "execution_count": 3,
   "metadata": {},
   "outputs": [
    {
     "data": {
      "text/plain": [
       "0    10\n",
       "1    20\n",
       "2    30\n",
       "3    40\n",
       "dtype: int32"
      ]
     },
     "execution_count": 3,
     "metadata": {},
     "output_type": "execute_result"
    }
   ],
   "source": [
    "# pd.Series은 1차원 데이터이다.(실데이터는 1차원 데이터(리스트,딕셔너리,튜플)중 아무거나 줘도 상관없음)\n",
    "# dtype: 설정 할 수 있음\n",
    "sr = pd.Series([10,20,30,40],dtype=np.int32)\n",
    "sr"
   ]
  },
  {
   "cell_type": "code",
   "execution_count": 4,
   "metadata": {},
   "outputs": [
    {
     "data": {
      "text/plain": [
       "0    10\n",
       "1    20\n",
       "2    30\n",
       "3    40\n",
       "dtype: int32"
      ]
     },
     "execution_count": 4,
     "metadata": {},
     "output_type": "execute_result"
    }
   ],
   "source": [
    "sr = pd.Series([10,20,30,40],dtype=np.int32)\n",
    "sr"
   ]
  },
  {
   "cell_type": "code",
   "execution_count": 5,
   "metadata": {},
   "outputs": [
    {
     "data": {
      "text/plain": [
       "aa    10\n",
       "bb    20\n",
       "cc    30\n",
       "dd    40\n",
       "dtype: int64"
      ]
     },
     "execution_count": 5,
     "metadata": {},
     "output_type": "execute_result"
    }
   ],
   "source": [
    "# 앞에 있는 인덱스는 값을 줘서 바꿀 수 있다.\n",
    "# 값을 주는 부분은 1차원 데이터의 어떤 형태도 줄 수 있다.\n",
    "sr = pd.Series([10,20,30,40], index=['aa','bb','cc','dd'])\n",
    "sr"
   ]
  },
  {
   "cell_type": "code",
   "execution_count": 6,
   "metadata": {},
   "outputs": [
    {
     "data": {
      "text/plain": [
       "aa    10\n",
       "bb    20\n",
       "cc    30\n",
       "dtype: int64"
      ]
     },
     "execution_count": 6,
     "metadata": {},
     "output_type": "execute_result"
    }
   ],
   "source": [
    "# 1차원 데이터인 딕셔너리가 들어간 유형 \n",
    "# 딕셔너리의 경우 키가 인덱스로 값이 옆에 찍힌다.\n",
    "sr = pd.Series({'aa':10,'bb':20,'cc':30})\n",
    "sr"
   ]
  },
  {
   "cell_type": "code",
   "execution_count": null,
   "metadata": {},
   "outputs": [],
   "source": []
  },
  {
   "cell_type": "code",
   "execution_count": null,
   "metadata": {},
   "outputs": [],
   "source": []
  },
  {
   "cell_type": "code",
   "execution_count": null,
   "metadata": {},
   "outputs": [],
   "source": []
  },
  {
   "cell_type": "code",
   "execution_count": null,
   "metadata": {},
   "outputs": [],
   "source": []
  },
  {
   "cell_type": "code",
   "execution_count": null,
   "metadata": {},
   "outputs": [],
   "source": []
  },
  {
   "cell_type": "code",
   "execution_count": null,
   "metadata": {},
   "outputs": [],
   "source": []
  }
 ],
 "metadata": {
  "kernelspec": {
   "display_name": "Python 3",
   "language": "python",
   "name": "python3"
  },
  "language_info": {
   "codemirror_mode": {
    "name": "ipython",
    "version": 3
   },
   "file_extension": ".py",
   "mimetype": "text/x-python",
   "name": "python",
   "nbconvert_exporter": "python",
   "pygments_lexer": "ipython3",
   "version": "3.7.1"
  }
 },
 "nbformat": 4,
 "nbformat_minor": 2
}

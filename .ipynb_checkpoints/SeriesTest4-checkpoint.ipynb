{
 "cells": [
  {
   "cell_type": "code",
   "execution_count": 1,
   "metadata": {},
   "outputs": [],
   "source": [
    "import pandas as pd\n",
    "import numpy as np"
   ]
  },
  {
   "cell_type": "code",
   "execution_count": 6,
   "metadata": {},
   "outputs": [],
   "source": [
    "sr = pd.Series([10,20,30,40],index=['aa','bb','cc','dd'])\n",
    "sr1 = pd.Series([1,2,3,4],index=['aa','bb','cc','dd'])"
   ]
  },
  {
   "cell_type": "code",
   "execution_count": 3,
   "metadata": {},
   "outputs": [
    {
     "data": {
      "text/plain": [
       "10"
      ]
     },
     "execution_count": 3,
     "metadata": {},
     "output_type": "execute_result"
    }
   ],
   "source": [
    "# 객체명.주어진인덱스 = 주어진 인덱스가 문자열인 경우 아래와 같이 속성처럼 쓸수 있다.\n",
    "# 하지만 아래 방법은 추천하지 않는다. 확실하게 속성과 겹치지 않는다면 아래와 같이 쓸수 있으나\n",
    "# 기존의 멤버 속성의 예약어와 겹칠 시 쓸수가 없다.\n",
    "sr.aa #sr['aa']"
   ]
  },
  {
   "cell_type": "markdown",
   "metadata": {},
   "source": [
    "### 연산"
   ]
  },
  {
   "cell_type": "code",
   "execution_count": 4,
   "metadata": {},
   "outputs": [
    {
     "data": {
      "text/plain": [
       "aa    12\n",
       "bb    22\n",
       "cc    32\n",
       "dd    42\n",
       "dtype: int64"
      ]
     },
     "execution_count": 4,
     "metadata": {},
     "output_type": "execute_result"
    }
   ],
   "source": [
    "# 객체명에 연산을 하면 개별 데이터에 모두 적용되어 개별 데이터에 연산 값으로 결과가 바뀐다.\n",
    "# 주의할 점은 위에 연산된 결과가 아닌 초기값에서 적용된다는 점을 기억하자\n",
    "sr+2"
   ]
  },
  {
   "cell_type": "code",
   "execution_count": 5,
   "metadata": {},
   "outputs": [
    {
     "data": {
      "text/plain": [
       "aa    20\n",
       "bb    40\n",
       "cc    60\n",
       "dd    80\n",
       "dtype: int64"
      ]
     },
     "execution_count": 5,
     "metadata": {},
     "output_type": "execute_result"
    }
   ],
   "source": [
    "# 객체명에 연산을 하면 개별 데이터에 모두 적용되어 개별 데이터에 연산 값으로 결과가 바뀐다.\n",
    "# 주의할 점은 위에 연산된 결과가 아닌 초기값에서 적용된다는 점을 기억하자\n",
    "sr*2"
   ]
  },
  {
   "cell_type": "code",
   "execution_count": 7,
   "metadata": {},
   "outputs": [
    {
     "data": {
      "text/plain": [
       "aa     10\n",
       "bb     40\n",
       "cc     90\n",
       "dd    160\n",
       "dtype: int64"
      ]
     },
     "execution_count": 7,
     "metadata": {},
     "output_type": "execute_result"
    }
   ],
   "source": [
    "# 시리즈는 시리즈 끼리 연산을 하여 그 결과값을 얻을 수 있다.\n",
    "# 물론 초기값에 한정하여 곱한다.\n",
    "sr*sr1"
   ]
  },
  {
   "cell_type": "code",
   "execution_count": 12,
   "metadata": {},
   "outputs": [
    {
     "data": {
      "text/plain": [
       "0     967.0\n",
       "1    1934.0\n",
       "2    2901.0\n",
       "3    3868.0\n",
       "dtype: float64"
      ]
     },
     "execution_count": 12,
     "metadata": {},
     "output_type": "execute_result"
    }
   ],
   "source": [
    "# 문제 > 세금 3.3을 제한 실수령액을 구하시오\n",
    "# 데이터가 연산을 통해 자료형이 바뀌면 해당 객체의 dtype은 자료 형태에 따라서 달라진다.\n",
    "salalry = pd.Series([1000,2000,3000,4000])\n",
    "salalry*(1-0.033)"
   ]
  },
  {
   "cell_type": "code",
   "execution_count": 14,
   "metadata": {},
   "outputs": [
    {
     "data": {
      "text/plain": [
       "aa    10\n",
       "dd    40\n",
       "dtype: int64"
      ]
     },
     "execution_count": 14,
     "metadata": {},
     "output_type": "execute_result"
    }
   ],
   "source": [
    "# boolean indexing - 시리즈 객체에서 추가된 인덱싱 방법\n",
    "# 데이터 탐색에서 쓰임\n",
    "# 데이터 값이 True인 것만 값을 가져온다. 불리안 값으로 인덱싱을 줄 경우 참인 것만 데이터를 가져온다.\n",
    "sr[[True,False,False,True]]"
   ]
  },
  {
   "cell_type": "code",
   "execution_count": 16,
   "metadata": {},
   "outputs": [
    {
     "data": {
      "text/plain": [
       "cc    30\n",
       "dd    40\n",
       "dtype: int64"
      ]
     },
     "execution_count": 16,
     "metadata": {},
     "output_type": "execute_result"
    }
   ],
   "source": [
    "# 시리즈에 관계연산자도 사용이 가능하다.\n",
    "# 관계연산자(>,<,>=,<=)에 근거를 판단하여 값이 관계연산자를 만족하면 True 만족하지 않으면 False로 나온다.\n",
    "# sr>20\n",
    "# 값이 트루인 것만 값을 반환한다.\n",
    "sr[sr>20] # sr[[False,False,True,True]]"
   ]
  },
  {
   "cell_type": "markdown",
   "metadata": {},
   "source": [
    "### 논리 연산자"
   ]
  },
  {
   "cell_type": "code",
   "execution_count": 20,
   "metadata": {},
   "outputs": [
    {
     "data": {
      "text/plain": [
       "bb    20\n",
       "cc    30\n",
       "dd    40\n",
       "dtype: int64"
      ]
     },
     "execution_count": 20,
     "metadata": {},
     "output_type": "execute_result"
    }
   ],
   "source": [
    "# and or는 시리즈 속성에서 사용하지 않는다.\n",
    "# and : & or : |\n",
    "# 연산자 우선순위를 부여하기 위해서는 괄호를 사용한다.\n",
    "# sr[(sr==20) |(sr==40)]\n",
    "sr[(sr>=20) &(sr<=40)] # 파이썬의 경우 20 <= sr <=40 이 되지만 판다스에서는 안됨"
   ]
  },
  {
   "cell_type": "code",
   "execution_count": 23,
   "metadata": {},
   "outputs": [
    {
     "data": {
      "text/plain": [
       "cc    30\n",
       "dd    40\n",
       "dtype: int64"
      ]
     },
     "execution_count": 23,
     "metadata": {},
     "output_type": "execute_result"
    }
   ],
   "source": [
    "# not 연산자 : ~ 로 쓴다.\n",
    "# sr[~(sr==20)] # 바로 아랫줄이 같은 표현\n",
    "# sr[sr!=20]\n",
    "# aa    10\n",
    "# cc    30\n",
    "# dd    40\n",
    "# dtype: int64\n",
    "\n",
    "sr[~(sr<=20)]\n",
    "\n"
   ]
  },
  {
   "cell_type": "code",
   "execution_count": 26,
   "metadata": {},
   "outputs": [
    {
     "data": {
      "text/plain": [
       "cc    30\n",
       "dd    40\n",
       "dtype: int64"
      ]
     },
     "execution_count": 26,
     "metadata": {},
     "output_type": "execute_result"
    }
   ],
   "source": [
    "# isin() : boolean 타입 반환. 해당 파라미터에 들어간 값만 true를 반환한다.\n",
    "# sr.isin([10,20] => True False 변환\n",
    "# sr[sr.isin([10,20])]\n",
    "sr[~sr.isin([10,20])]\n",
    "# sr[(sr==10) |(sr==20)]"
   ]
  },
  {
   "cell_type": "code",
   "execution_count": 29,
   "metadata": {},
   "outputs": [
    {
     "data": {
      "text/plain": [
       "aa    10\n",
       "cc    30\n",
       "dtype: int64"
      ]
     },
     "execution_count": 29,
     "metadata": {},
     "output_type": "execute_result"
    }
   ],
   "source": [
    "# .index : index 객체\n",
    "sr[sr.index.isin(['aa','cc'])] # True에 있는 값만 반환"
   ]
  },
  {
   "cell_type": "markdown",
   "metadata": {},
   "source": [
    "###### 관계 연산자 논리 연산자 isin은 데이터 필터링에서 많이 활용된다."
   ]
  }
 ],
 "metadata": {
  "kernelspec": {
   "display_name": "Python 3",
   "language": "python",
   "name": "python3"
  },
  "language_info": {
   "codemirror_mode": {
    "name": "ipython",
    "version": 3
   },
   "file_extension": ".py",
   "mimetype": "text/x-python",
   "name": "python",
   "nbconvert_exporter": "python",
   "pygments_lexer": "ipython3",
   "version": "3.7.1"
  }
 },
 "nbformat": 4,
 "nbformat_minor": 2
}

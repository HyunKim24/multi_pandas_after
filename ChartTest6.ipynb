{
 "cells": [
  {
   "cell_type": "code",
   "execution_count": 1,
   "metadata": {},
   "outputs": [],
   "source": [
    "import pandas as pd\n",
    "import numpy as np\n",
    "import matplotlib.pyplot as plt\n",
    "import matplotlib\n",
    "\n",
    "# 글꼴을 바꿔라\n",
    "matplotlib.rcParams['font.family'] = 'Malgun Gothic'\n",
    "# 유니코드를 적용해라\n",
    "matplotlib.rcParams['axes.unicode_minus'] = False"
   ]
  },
  {
   "cell_type": "code",
   "execution_count": 8,
   "metadata": {},
   "outputs": [
    {
     "data": {
      "image/png": "[encoded data removed]",
      "text/plain": [
       "<Figure size 432x288 with 1 Axes>"
      ]
     },
     "metadata": {
      "needs_background": "light"
     },
     "output_type": "display_data"
    }
   ],
   "source": [
    "kor = [50,20,80,90,50,30,20,80,90,50]\n",
    "eng = [20,90,30,10,70,60,20,50,40,50]\n",
    "math = [20,30,50,20,25,65,100,23,40,47]\n",
    "\n",
    "# plt.boxplot(kor) \n",
    "# => 맨위는 맥스값 맨아래는 민값 주황선은 평균 그위는 75% 그아래는 25%\n",
    "# 박스 길이 길면 편차가 크다.\n",
    "plt.boxplot([kor,eng,math],labels=['국어','영어','수학'])\n",
    "plt.show()\n",
    "# 이상치(outlier) => 모여있는 데이터보다 월등히 데이터가 다를때 표시함(math 동그라미)"
   ]
  }
 ],
 "metadata": {
  "kernelspec": {
   "display_name": "Python 3",
   "language": "python",
   "name": "python3"
  },
  "language_info": {
   "codemirror_mode": {
    "name": "ipython",
    "version": 3
   },
   "file_extension": ".py",
   "mimetype": "text/x-python",
   "name": "python",
   "nbconvert_exporter": "python",
   "pygments_lexer": "ipython3",
   "version": "3.7.1"
  }
 },
 "nbformat": 4,
 "nbformat_minor": 2
}
